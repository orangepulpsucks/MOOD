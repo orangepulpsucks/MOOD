{
 "cells": [
  {
   "cell_type": "code",
   "execution_count": 45,
   "id": "882f6248",
   "metadata": {},
   "outputs": [
    {
     "name": "stdout",
     "output_type": "stream",
     "text": [
      "The image captures a woman with shoulder-length, wavy, blonde hair, smiling gently as she turns to her right, her gaze not directly at the camera but slightly away. She is wearing a simple, dark-colored top, which stands in contrast against the soft, natural background blurred with bokeh. The lighting suggests it's either sunrise or sunset, lending a warm golden hue to the scene, particularly highlighting her hair and the right side of her face. Behind her, the suggestion of lush greenery and distant trees evokes a sense of being outdoors in a serene, possibly garden-like environment.\n"
     ]
    }
   ],
   "source": [
    "# ChatGPT 4 - Inputting an image to generate an image description\n",
    "\n",
    "# Imports\n",
    "import openai\n",
    "import base64\n",
    "import requests\n",
    "\n",
    "# OpenAI API Key\n",
    "api_key = \"\"\n",
    "\n",
    "# Function to encode the image\n",
    "def encode_image(image_path):\n",
    "  with open(image_path, \"rb\") as image_file:\n",
    "    return base64.b64encode(image_file.read()).decode('utf-8')\n",
    "\n",
    "# Path to your image\n",
    "image_path = \"/Users/y/Desktop/Coding/CS330/Mood/Research/Attempt 1/happy.jpg\"\n",
    "\n",
    "# Getting the base64 string\n",
    "base64_image = encode_image(image_path)\n",
    "\n",
    "headers = {\n",
    "  \"Content-Type\": \"application/json\",\n",
    "  \"Authorization\": f\"Bearer {api_key}\"\n",
    "}\n",
    "\n",
    "payload = {\n",
    "  \"model\": \"gpt-4-vision-preview\",\n",
    "  \"messages\": [\n",
    "    {\n",
    "      \"role\": \"user\",\n",
    "      \"content\": [\n",
    "        {\n",
    "          \"type\": \"text\",\n",
    "          \"text\": \"In four sentences, give me an accurate recreation of the photo. Use lots of descriptors.\"\n",
    "        },\n",
    "        {\n",
    "          \"type\": \"image_url\",\n",
    "          \"image_url\": {\n",
    "            \"url\": f\"data:image/jpeg;base64,{base64_image}\"\n",
    "          }\n",
    "        }\n",
    "      ]\n",
    "    }\n",
    "  ],\n",
    "  \"max_tokens\": 300\n",
    "}\n",
    "\n",
    "response = requests.post(\"https://api.openai.com/v1/chat/completions\", headers=headers, json=payload)\n",
    "\n",
    "response_content = response.json()['choices'][0]['message']['content']\n",
    "print(response_content)\n"
   ]
  },
  {
   "cell_type": "code",
   "execution_count": 46,
   "id": "0d83263c",
   "metadata": {},
   "outputs": [
    {
     "name": "stdout",
     "output_type": "stream",
     "text": [
      "The photo shows a young girl with a prominent pout and a sorrowful expression on her face. Her light blonde hair falls straight and slightly unkempt around her shoulders. She's wearing a colorful striped top with vibrant horizontal stripes in shades of purple, pink, green, and white. The background is a smooth, unfocused grey, highlighting the girl's expression as the focal point of the image.\n"
     ]
    }
   ],
   "source": [
    "# Imports\n",
    "import openai\n",
    "import base64\n",
    "import requests\n",
    "\n",
    "# OpenAI API Key\n",
    "api_key = \"\"\n",
    "\n",
    "# Function to encode the image\n",
    "def encode_image(image_path):\n",
    "  with open(image_path, \"rb\") as image_file:\n",
    "    return base64.b64encode(image_file.read()).decode('utf-8')\n",
    "\n",
    "# Path to your image\n",
    "image_path = \"/Users/y/Desktop/Coding/CS330/Mood/Research/Attempt 1/sad.jpg\"\n",
    "\n",
    "# Getting the base64 string\n",
    "base64_image = encode_image(image_path)\n",
    "\n",
    "headers = {\n",
    "  \"Content-Type\": \"application/json\",\n",
    "  \"Authorization\": f\"Bearer {api_key}\"\n",
    "}\n",
    "\n",
    "payload = {\n",
    "  \"model\": \"gpt-4-vision-preview\",\n",
    "  \"messages\": [\n",
    "    {\n",
    "      \"role\": \"user\",\n",
    "      \"content\": [\n",
    "        {\n",
    "          \"type\": \"text\",\n",
    "          \"text\": \"In four sentences, give me an accurate recreation of the photo. Use lots of descriptors.\"\n",
    "        },\n",
    "        {\n",
    "          \"type\": \"image_url\",\n",
    "          \"image_url\": {\n",
    "            \"url\": f\"data:image/jpeg;base64,{base64_image}\"\n",
    "          }\n",
    "        }\n",
    "      ]\n",
    "    }\n",
    "  ],\n",
    "  \"max_tokens\": 300\n",
    "}\n",
    "\n",
    "response = requests.post(\"https://api.openai.com/v1/chat/completions\", headers=headers, json=payload)\n",
    "\n",
    "response_content = response.json()['choices'][0]['message']['content']\n",
    "print(response_content)\n"
   ]
  },
  {
   "cell_type": "code",
   "execution_count": null,
   "id": "e2db0dbb",
   "metadata": {},
   "outputs": [],
   "source": []
  }
 ],
 "metadata": {
  "kernelspec": {
   "display_name": "Python 3 (ipykernel)",
   "language": "python",
   "name": "python3"
  },
  "language_info": {
   "codemirror_mode": {
    "name": "ipython",
    "version": 3
   },
   "file_extension": ".py",
   "mimetype": "text/x-python",
   "name": "python",
   "nbconvert_exporter": "python",
   "pygments_lexer": "ipython3",
   "version": "3.11.4"
  }
 },
 "nbformat": 4,
 "nbformat_minor": 5
}
